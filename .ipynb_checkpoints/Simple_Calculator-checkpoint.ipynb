{
 "cells": [
  {
   "cell_type": "code",
   "execution_count": 1,
   "metadata": {},
   "outputs": [],
   "source": [
    "from tkinter import *"
   ]
  },
  {
   "cell_type": "code",
   "execution_count": 42,
   "metadata": {},
   "outputs": [],
   "source": [
    "def button_click(number):\n",
    "    #e.delete(0,END)\n",
    "    current=e.get()\n",
    "    e.delete(0,END)\n",
    "    e.insert(0,str(current)+str(number))\n",
    "\n",
    "def clear_button():\n",
    "    e.delete(0,END)\n",
    "\n",
    "def add_button():\n",
    "    first_number=e.get()\n",
    "    global f_num\n",
    "    global math\n",
    "    math= \"add\"\n",
    "    f_num=float(first_number)\n",
    "    e.delete(0,END)\n",
    "\n",
    "def sub_button():\n",
    "    first_number=e.get()\n",
    "    global f_num\n",
    "    global math\n",
    "    math= \"sub\"\n",
    "    f_num=float(first_number)\n",
    "    e.delete(0,END)\n",
    "\n",
    "def mul_button():\n",
    "    first_number=e.get()\n",
    "    global f_num\n",
    "    global math\n",
    "    math= \"mul\"\n",
    "    f_num=float(first_number)\n",
    "    e.delete(0,END)\n",
    "\n",
    "def div_button():\n",
    "    first_number=e.get()\n",
    "    global f_num\n",
    "    global math\n",
    "    math= \"div\"\n",
    "    f_num=float(first_number)\n",
    "    e.delete(0,END)\n",
    "\n",
    "def equal_button():\n",
    "    \n",
    "    res=float(e.get())\n",
    "    e.delete(0,END)\n",
    "    \n",
    "    if math==\"add\":\n",
    "        e.insert(0,res + f_num)\n",
    "    elif math==\"sub\":\n",
    "        e.insert(0,f_num - res)\n",
    "    elif math==\"mul\":\n",
    "        e.insert(0,res*f_num)\n",
    "    elif math==\"div\":\n",
    "        if(res==0.0):\n",
    "            e.insert(0,\"Divide by 0 error\")\n",
    "        else:\n",
    "            e.insert(0,f_num/res)\n",
    "   \n"
   ]
  },
  {
   "cell_type": "code",
   "execution_count": 43,
   "metadata": {},
   "outputs": [],
   "source": [
    "root = Tk()\n",
    "\n",
    "root.title(\"Simple Calculator\")\n",
    "\n",
    "e=Entry(root, width=50 )\n",
    "e.grid(row=0,column=0,padx=10,pady=10,columnspan=3)\n",
    "\n",
    "button0 = Button(root,text=\"1\",padx=60,pady=20,command=lambda:button_click(1)).grid(row=1,column=0)\n",
    "button1 = Button(root,text=\"2\",padx=60,pady=20,command=lambda:button_click(2)).grid(row=1,column=1)\n",
    "button2 = Button(root,text=\"3\",padx=60,pady=20,command=lambda:button_click(3)).grid(row=1,column=2)\n",
    "button3 = Button(root,text=\"4\",padx=60,pady=20,command=lambda:button_click(4)).grid(row=2,column=0)\n",
    "button4 = Button(root,text=\"5\",padx=60,pady=20,command=lambda:button_click(5)).grid(row=2,column=1)\n",
    "button5 = Button(root,text=\"6\",padx=60,pady=20,command=lambda:button_click(6)).grid(row=2,column=2)\n",
    "button6 = Button(root,text=\"7\",padx=60,pady=20,command=lambda:button_click(7)).grid(row=3,column=0)\n",
    "button7 = Button(root,text=\"8\",padx=60,pady=20,command=lambda:button_click(8)).grid(row=3,column=1)\n",
    "button8 = Button(root,text=\"9\",padx=60,pady=20,command=lambda:button_click(9)).grid(row=3,column=2)\n",
    "button9 = Button(root,text=\"0\",padx=60,pady=20,command=lambda:button_click(0)).grid(row=4,column=0)\n",
    "\n",
    "button_add= Button(root,text=\"+\",padx=59,pady=20,command=add_button).grid(row=5,column=0)\n",
    "button_mul= Button(root,text=\"X\",padx=60,pady=20,command=mul_button).grid(row=5,column=1)\n",
    "button_sub= Button(root,text=\"-\",padx=60,pady=20,command=sub_button).grid(row=5,column=2)\n",
    "button_div= Button(root,text=\"/\",padx=61,pady=20,command=div_button).grid(row=6,column=0)\n",
    "button_equal=Button(root,text=\"=\",padx=128,pady=20,command=equal_button).grid(row=6,column=1,columnspan=2)\n",
    "button_clear=Button(root,text=\"Clear\",padx=118,pady=20,command=clear_button).grid(row=4,column=1,columnspan=2)"
   ]
  },
  {
   "cell_type": "code",
   "execution_count": 44,
   "metadata": {},
   "outputs": [],
   "source": [
    "root.mainloop()"
   ]
  },
  {
   "cell_type": "code",
   "execution_count": null,
   "metadata": {},
   "outputs": [],
   "source": []
  }
 ],
 "metadata": {
  "kernelspec": {
   "display_name": "Python 3",
   "language": "python",
   "name": "python3"
  },
  "language_info": {
   "codemirror_mode": {
    "name": "ipython",
    "version": 3
   },
   "file_extension": ".py",
   "mimetype": "text/x-python",
   "name": "python",
   "nbconvert_exporter": "python",
   "pygments_lexer": "ipython3",
   "version": "3.6.9"
  }
 },
 "nbformat": 4,
 "nbformat_minor": 4
}
